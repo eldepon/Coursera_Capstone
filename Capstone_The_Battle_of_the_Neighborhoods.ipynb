{
 "cells": [
  {
   "cell_type": "markdown",
   "metadata": {
    "colab_type": "text",
    "collapsed": true,
    "id": "6r91cvviAhfq"
   },
   "source": [
    "# Capstone Project - The Battle of the Neighborhoods\n",
    "#### Applied Data Science Capstone by IBM/Coursera"
   ]
  },
  {
   "cell_type": "markdown",
   "metadata": {
    "colab_type": "text",
    "id": "57dl1mK6Ahfu"
   },
   "source": [
    "## Table of contents\n",
    "* [Introduction/Business Problem](#introduction)\n",
    "  *   Background of the Study\n",
    "  *   Statement of the Problem\n",
    "* [Data](#data)"
   ]
  },
  {
   "cell_type": "markdown",
   "metadata": {
    "colab_type": "text",
    "id": "B1fw-DNbAhfx"
   },
   "source": [
    "## Introduction/Business Problem <a name=\"introduction\"></a>"
   ]
  },
  {
   "cell_type": "markdown",
   "metadata": {
    "colab_type": "text",
    "id": "GeSOcEsHDB2J"
   },
   "source": [
    "#### Background of the Study"
   ]
  },
  {
   "cell_type": "markdown",
   "metadata": {
    "colab_type": "text",
    "id": "YJ0bqRXgAhfz"
   },
   "source": [
    "**Karaoke** is one of the most popular recreational activity in Japan. It can be enjoyed alone, with family or friends, or even with strangers. Karaoke is usually combined with wide varieties of other recreation activities such as bowling or billiard, or with just common food and drink bars. It can be thought as a combined business of sorts wherein you can profit not only from karaoke machines but also profit from food/drink bars, and other services offered. \n",
    "\n",
    "One of the most important element in setting up a business is how you position your business in the market. And in a Karaoke business, physical location is very important. Principally situated in the cluster of shops, near train stations, near lively night streets and the like, one cannot stress enough that human traffic is the soul of this business. Aside from this, starting a Karaoke business has to consider many factors such as ease of access, safety and customer perception to the location, laws and regulations, and possible business competition.\n"
   ]
  },
  {
   "cell_type": "markdown",
   "metadata": {
    "colab_type": "text",
    "id": "_rfz6zqcC6Id"
   },
   "source": [
    "#### Statement of the Problem"
   ]
  },
  {
   "cell_type": "markdown",
   "metadata": {
    "colab_type": "text",
    "id": "H1tDr-5pDHb8"
   },
   "source": [
    "To people who are interested in starting a Karaoke business in Japan but have no idea where to establish their business, this research will be of importance. It can also serve as guideline for similar research.\n",
    "\n",
    "Since we know that Karaoke is popular to certain regions in Japan like Tokyo, we would like to find an area that satisfy the following points:\n",
    "1. Situated in a place with the same economic and social status as that of Tokyo. \n",
    "2. Situated in a place with mimimum possible competition.\n",
    "3. Situated in a place similiar with other successful Karaoke business."
   ]
  },
  {
   "cell_type": "markdown",
   "metadata": {
    "colab_type": "text",
    "id": "PN8fWJNXAhf2"
   },
   "source": [
    "## Data <a name=\"data\"></a>"
   ]
  },
  {
   "cell_type": "markdown",
   "metadata": {
    "colab_type": "text",
    "id": "7FN704SWAhf5"
   },
   "source": [
    "The statistical data of all 47 prepectures of Japan is readily available online as link to excel files. Those links will be scraped from the website using beautifulsoup library and then be downloaded and preprocessed for easier analysis.\n",
    "Information regarding the places will be collected using the Foursquare API.\n",
    "\n",
    "To summarize, the following data with their respective descriptions will be collected:\n",
    "\n",
    "**1. Statistical data of all prefectures in Japan**\n",
    "> *The data will be gathered online from a government public website. It is composed of many statistical information collected at a certain interval of time. This research will not include trends so we will only be interested in the most recent data. From the basket of statistics available (GDP, taxes, number of particular establishments (schools, hospitals, parks, etc.), etc.), we will select only a few that we believe is significant to our subject of study. Since we are only interested in prefectures with the same social and economic status from Tokyo prefecture, we will use this data to cluster prefectures based on their similarities in the chosen features.*\n",
    "\n",
    "**2. Physical location information of popular karaoke establishments near prefecture center**\n",
    "> *Using 'karaoke' as the category input to the Foursquare API, the latitude and longitude of each popular karaoke establishment will then be collected. We will then use their latitute and longitude to cluster them based on their distance to each other. Our goal is to select an area where there is a few karaoke establishment to minimize the possibility of similar shop competition.*\n",
    "\n",
    "\n",
    "**3. Physical location information of nearby popular establishment**\n",
    "> *Using the latitudes and longitudes collected above as input to the Foursquare API, each nearby establishment to the karaoke establishment information will then be collected. This information will then be used to cluster karaoke establishment.*\n",
    "\n",
    "**4. Final clustering**\n",
    "> *Based on the results of the two clusterings above (Karaoke distance clustering and Karaoke similarities clustering), we will then find their intersection and select from their generated list an area where we can start our Karaoke business.*\n"
   ]
  }
 ],
 "metadata": {
  "colab": {
   "name": "Capstone_The-Battle-of-the-Neighborhoods.ipynb",
   "provenance": []
  },
  "kernelspec": {
   "display_name": "Python 3",
   "language": "python",
   "name": "python3"
  },
  "language_info": {
   "codemirror_mode": {
    "name": "ipython",
    "version": 3
   },
   "file_extension": ".py",
   "mimetype": "text/x-python",
   "name": "python",
   "nbconvert_exporter": "python",
   "pygments_lexer": "ipython3",
   "version": "3.7.6"
  }
 },
 "nbformat": 4,
 "nbformat_minor": 1
}
